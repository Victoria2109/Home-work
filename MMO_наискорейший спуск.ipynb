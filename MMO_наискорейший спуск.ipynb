{
 "cells": [
  {
   "cell_type": "code",
   "execution_count": 1,
   "id": "58211f58",
   "metadata": {},
   "outputs": [
    {
     "name": "stderr",
     "output_type": "stream",
     "text": [
      "C:\\Users\\Виктория\\AppData\\Roaming\\Python\\Python39\\site-packages\\matplotlib\\projections\\__init__.py:63: UserWarning: Unable to import Axes3D. This may be due to multiple versions of Matplotlib being installed (e.g. as a system package and as a pip package). As a result, the 3D projection is not available.\n",
      "  warnings.warn(\"Unable to import Axes3D. This may be due to multiple versions of \"\n"
     ]
    }
   ],
   "source": [
    "import numpy as np\n",
    "import matplotlib.pyplot as plt\n",
    "from scipy.optimize import minimize"
   ]
  },
  {
   "cell_type": "code",
   "execution_count": 2,
   "id": "5c584057",
   "metadata": {},
   "outputs": [],
   "source": [
    "def f(x):\n",
    "    f = 3 * x ** 2\n",
    "    return(f)"
   ]
  },
  {
   "cell_type": "code",
   "execution_count": 3,
   "id": "1e2b7d2f",
   "metadata": {},
   "outputs": [],
   "source": [
    "def df(x):\n",
    "    df = 6 * x\n",
    "    return(df)"
   ]
  },
  {
   "cell_type": "code",
   "execution_count": 4,
   "id": "e68d560e",
   "metadata": {},
   "outputs": [],
   "source": [
    "lamda = 0.1\n",
    "x0 = 5"
   ]
  },
  {
   "cell_type": "code",
   "execution_count": 5,
   "id": "aa0bcd98",
   "metadata": {},
   "outputs": [],
   "source": [
    "res_x = list()\n",
    "res_y = list()"
   ]
  },
  {
   "cell_type": "code",
   "execution_count": 6,
   "id": "5c885c13",
   "metadata": {},
   "outputs": [],
   "source": [
    "def func_to_minimize(lamda):\n",
    "    return x0 - lamda * df(x0)"
   ]
  },
  {
   "cell_type": "code",
   "execution_count": 7,
   "id": "888922ca",
   "metadata": {},
   "outputs": [],
   "source": [
    "initial_guess = 0.1"
   ]
  },
  {
   "cell_type": "code",
   "execution_count": 8,
   "id": "54bb3882",
   "metadata": {},
   "outputs": [],
   "source": [
    "# Минимизация функции с помощью метода оптимизации\n",
    "result = minimize(func_to_minimize, initial_guess, method='Nelder-Mead')"
   ]
  },
  {
   "cell_type": "code",
   "execution_count": 9,
   "id": "a5695936",
   "metadata": {},
   "outputs": [],
   "source": [
    "# Получение значения lamda, при котором функция минимальна\n",
    "optimal_lamda = result.x[0]"
   ]
  },
  {
   "cell_type": "code",
   "execution_count": 10,
   "id": "0f4a39ab",
   "metadata": {},
   "outputs": [
    {
     "data": {
      "text/plain": [
       "6.338253001141166e+27"
      ]
     },
     "execution_count": 10,
     "metadata": {},
     "output_type": "execute_result"
    }
   ],
   "source": [
    "optimal_lamda"
   ]
  },
  {
   "cell_type": "code",
   "execution_count": 11,
   "id": "c7d6c20a",
   "metadata": {},
   "outputs": [],
   "source": [
    "#def g(x0, lamda):\n",
    "#    return x0 - lamda * df(x0)\n",
    "\n",
    "#res = minimize(g, lamda, method='SLSQP', args=(0.01))\n",
    "#res\n",
    "\n",
    "#lamda = res.x[0]\n",
    "#lamda"
   ]
  },
  {
   "cell_type": "code",
   "execution_count": 12,
   "id": "84607840",
   "metadata": {},
   "outputs": [],
   "source": [
    "while True:\n",
    "    res_x.append(x0)\n",
    "    res_y.append(f(x0))\n",
    "    x1 = x0 - lamda * df(x0)\n",
    "    \n",
    "    if np.linalg.norm(x0 - x1) <= 0.00000001:\n",
    "        break\n",
    "    \n",
    "    x0 = x1\n",
    "    "
   ]
  },
  {
   "cell_type": "code",
   "execution_count": 13,
   "id": "752003fa",
   "metadata": {},
   "outputs": [
    {
     "data": {
      "text/plain": [
       "[5,\n",
       " 2.0,\n",
       " 0.7999999999999998,\n",
       " 0.3199999999999999,\n",
       " 0.12799999999999995,\n",
       " 0.05119999999999997,\n",
       " 0.020479999999999984,\n",
       " 0.008191999999999993,\n",
       " 0.0032767999999999964,\n",
       " 0.0013107199999999983,\n",
       " 0.0005242879999999992,\n",
       " 0.0002097151999999996,\n",
       " 8.388607999999985e-05,\n",
       " 3.355443199999993e-05,\n",
       " 1.3421772799999973e-05,\n",
       " 5.368709119999989e-06,\n",
       " 2.147483647999996e-06,\n",
       " 8.589934591999983e-07,\n",
       " 3.4359738367999934e-07,\n",
       " 1.374389534719997e-07,\n",
       " 5.4975581388799866e-08,\n",
       " 2.1990232555519943e-08,\n",
       " 8.796093022207974e-09]"
      ]
     },
     "execution_count": 13,
     "metadata": {},
     "output_type": "execute_result"
    }
   ],
   "source": [
    "res_x"
   ]
  },
  {
   "cell_type": "code",
   "execution_count": 14,
   "id": "19e1ee3e",
   "metadata": {},
   "outputs": [
    {
     "data": {
      "text/plain": [
       "[75,\n",
       " 12.0,\n",
       " 1.919999999999999,\n",
       " 0.3071999999999998,\n",
       " 0.04915199999999996,\n",
       " 0.00786431999999999,\n",
       " 0.001258291199999998,\n",
       " 0.00020132659199999963,\n",
       " 3.221225471999993e-05,\n",
       " 5.153960755199986e-06,\n",
       " 8.246337208319973e-07,\n",
       " 1.319413953331195e-07,\n",
       " 2.111062325329912e-08,\n",
       " 3.3776997205278583e-09,\n",
       " 5.404319552844574e-10,\n",
       " 8.646911284551317e-11,\n",
       " 1.3835058055282112e-11,\n",
       " 2.2136092888451373e-12,\n",
       " 3.54177486215222e-13,\n",
       " 5.666839779443549e-14,\n",
       " 9.066943647109674e-15,\n",
       " 1.4507109835375474e-15,\n",
       " 2.3211375736600744e-16]"
      ]
     },
     "execution_count": 14,
     "metadata": {},
     "output_type": "execute_result"
    }
   ],
   "source": [
    "res_y"
   ]
  },
  {
   "cell_type": "code",
   "execution_count": 15,
   "id": "aab0637a",
   "metadata": {},
   "outputs": [],
   "source": [
    "x_list = list(range(-5, 6))\n",
    "y_list=[]\n",
    "\n",
    "for num in x_list:\n",
    "    y = 3 * num ** 2\n",
    "    y_list.append(y)"
   ]
  },
  {
   "cell_type": "code",
   "execution_count": 16,
   "id": "b8deacdf",
   "metadata": {},
   "outputs": [
    {
     "data": {
      "text/plain": [
       "[<matplotlib.lines.Line2D at 0x2b074538f70>]"
      ]
     },
     "execution_count": 16,
     "metadata": {},
     "output_type": "execute_result"
    },
    {
     "data": {
      "image/png": "[encoded data removed]",
      "text/plain": [
       "<Figure size 640x480 with 1 Axes>"
      ]
     },
     "metadata": {},
     "output_type": "display_data"
    }
   ],
   "source": [
    "plt.plot(res_x, res_y, 'bo', linestyle='dashed')\n",
    "plt.plot(x_list, y_list, color='green')"
   ]
  },
  {
   "cell_type": "code",
   "execution_count": null,
   "id": "0602c335",
   "metadata": {},
   "outputs": [],
   "source": []
  }
 ],
 "metadata": {
  "kernelspec": {
   "display_name": "Python 3 (ipykernel)",
   "language": "python",
   "name": "python3"
  },
  "language_info": {
   "codemirror_mode": {
    "name": "ipython",
    "version": 3
   },
   "file_extension": ".py",
   "mimetype": "text/x-python",
   "name": "python",
   "nbconvert_exporter": "python",
   "pygments_lexer": "ipython3",
   "version": "3.9.13"
  }
 },
 "nbformat": 4,
 "nbformat_minor": 5
}
